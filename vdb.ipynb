{
 "cells": [
  {
   "cell_type": "code",
   "execution_count": 2,
   "metadata": {},
   "outputs": [
    {
     "name": "stdout",
     "output_type": "stream",
     "text": [
      "multiStory.txt\n",
      "langchain\n",
      "file\n",
      "wkfor.txt\n",
      "ficStory.txt\n",
      "Paper.txt\n"
     ]
    }
   ],
   "source": [
    "from langchain.vectorstores import Chroma\n",
    "from environment import env\n",
    "from langchain.embeddings import OllamaEmbeddings\n",
    "from langchain.llms import Ollama\n",
    "\n",
    "vectorstore=Chroma(\n",
    "            persist_directory=env[\"vectorDirectory\"],\n",
    "            client_settings=env[\"CHROMA_SETTINGS\"],\n",
    "        )\n",
    "\n",
    "collections_list = vectorstore._client.list_collections()\n",
    "for i in collections_list:\n",
    "    print(i.name)\n"
   ]
  },
  {
   "cell_type": "code",
   "execution_count": null,
   "metadata": {},
   "outputs": [],
   "source": []
  }
 ],
 "metadata": {
  "kernelspec": {
   "display_name": ".env",
   "language": "python",
   "name": "python3"
  },
  "language_info": {
   "codemirror_mode": {
    "name": "ipython",
    "version": 3
   },
   "file_extension": ".py",
   "mimetype": "text/x-python",
   "name": "python",
   "nbconvert_exporter": "python",
   "pygments_lexer": "ipython3",
   "version": "3.11.2"
  }
 },
 "nbformat": 4,
 "nbformat_minor": 2
}
